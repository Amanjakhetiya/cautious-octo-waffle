{
 "cells": [
  {
   "cell_type": "markdown",
   "metadata": {
    "collapsed": true
   },
   "source": [
    "## 000-Pre flight Check"
   ]
  },
  {
   "cell_type": "code",
   "execution_count": 1,
   "metadata": {
    "collapsed": false
   },
   "outputs": [
    {
     "name": "stdout",
     "output_type": "stream",
     "text": [
      "Last run @2016-08-09 20:58:24.399271-07:00\n"
     ]
    }
   ],
   "source": [
    "import datetime\n",
    "from pytz import timezone\n",
    "print \"Last run @%s\" % (datetime.datetime.now(timezone('US/Pacific')))\n",
    "#"
   ]
  },
  {
   "cell_type": "code",
   "execution_count": 10,
   "metadata": {
    "collapsed": false
   },
   "outputs": [
    {
     "name": "stdout",
     "output_type": "stream",
     "text": [
      "Python  sys.version_info(major=2, minor=7, micro=12, releaselevel='final', serial=0)\n",
      "Python  2.7.12\n",
      "numpy: 1.11.1\n",
      "scipy: 0.17.1\n",
      "pandas:  0.18.1\n",
      "   path : ['/Users/ksankar/miniconda2/lib/python2.7/site-packages/pandas']\n",
      "matplotlib: 1.5.1\n",
      "scikit-learn: 0.17.1\n"
     ]
    }
   ],
   "source": [
    "import sys\n",
    "print \"Python \",sys.version_info\n",
    "\n",
    "import platform\n",
    "print \"Python \",platform.python_version()\n",
    "\n",
    "import numpy as np\n",
    "print 'numpy:', np.__version__\n",
    "#print '   path :',np.__path__\n",
    "\n",
    "import scipy\n",
    "print 'scipy:', scipy.__version__\n",
    "#print '   path :',scipy.__path__\n",
    "\n",
    "import pandas as pd\n",
    "print 'pandas: ',pd.__version__\n",
    "print '   path :',pd.__path__\n",
    "\n",
    "import matplotlib as plt\n",
    "print 'matplotlib:', plt.__version__\n",
    "#print '   path :',plt.__path__\n",
    "\n",
    "import sklearn\n",
    "print 'scikit-learn:', sklearn.__version__\n",
    "#print '   path :',sklearn.__path__\n",
    "\n",
    "# import psutil # Process & System Utilities\n",
    "# print 'psutil:',psutil.__version__\n",
    "# print psutil.virtual_memory()"
   ]
  },
  {
   "cell_type": "markdown",
   "metadata": {
    "collapsed": true
   },
   "source": [
    "## _That's All Folks !_"
   ]
  },
  {
   "cell_type": "code",
   "execution_count": null,
   "metadata": {
    "collapsed": true
   },
   "outputs": [],
   "source": []
  }
 ],
 "metadata": {
  "kernelspec": {
   "display_name": "Python 2",
   "language": "python",
   "name": "python2"
  },
  "language_info": {
   "codemirror_mode": {
    "name": "ipython",
    "version": 2
   },
   "file_extension": ".py",
   "mimetype": "text/x-python",
   "name": "python",
   "nbconvert_exporter": "python",
   "pygments_lexer": "ipython2",
   "version": "2.7.12"
  }
 },
 "nbformat": 4,
 "nbformat_minor": 0
}
